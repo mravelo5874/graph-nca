{
 "cells": [
  {
   "cell_type": "code",
   "execution_count": 1,
   "metadata": {},
   "outputs": [
    {
     "name": "stdout",
     "output_type": "stream",
     "text": [
      "args: Namespace(device='cuda', message_dim=32, hidden_dim=16, has_attention=False, epochs=10000, pool_size=256, batch_size=2, start_lr=0.0005, end_lr=1e-05, beta1=0.9, beta2=0.999, wd=1e-05, factor_sch=0.5, patience_sch=500, min_steps=15, max_steps=25, log_rate=100, comp_edge_percent=0.5, save_to='logs', graph='line', size=8, length=1.0, seed_std=0.5, init_hidden='ones', file_name='line8-2024-10-07@22-44-53')\n",
      "[trainer.py] target graph: 8 nodes, 14 edges\n",
      "[trainer.py] generated new seed and saved to file: logs/line8-2024-10-07@22-44-53/seed.pkl\n",
      "[trainer.py] starting training\n",
      "n steps: 18\n",
      "hidden_mlp_out diff:\n",
      "tensor([[ 0.0000e+00,  1.4901e-08, -1.1176e-08,  2.9802e-08,  0.0000e+00,\n",
      "          0.0000e+00,  2.9802e-08, -1.8626e-08, -3.7253e-08,  1.4901e-08,\n",
      "          0.0000e+00, -4.4703e-08, -2.9802e-08,  1.4901e-08,  0.0000e+00,\n",
      "         -2.9802e-08],\n",
      "        [-1.4901e-08, -2.9802e-08, -1.1176e-08,  5.9605e-08,  0.0000e+00,\n",
      "          0.0000e+00, -5.9605e-08, -2.9802e-08,  0.0000e+00, -1.4901e-08,\n",
      "         -2.9802e-08, -2.9802e-08,  0.0000e+00,  2.9802e-08, -1.4901e-08,\n",
      "          1.4901e-08],\n",
      "        [-2.2352e-08,  2.9802e-08,  1.8626e-08,  0.0000e+00,  0.0000e+00,\n",
      "          2.9802e-08,  0.0000e+00,  1.4901e-08,  1.4901e-08,  2.9802e-08,\n",
      "          1.4901e-08,  0.0000e+00, -5.9605e-08,  7.4506e-09, -1.4901e-08,\n",
      "          0.0000e+00],\n",
      "        [ 6.7055e-08,  2.9802e-08,  1.8626e-08, -2.9802e-08,  1.4901e-08,\n",
      "          5.9605e-08,  0.0000e+00,  5.2154e-08,  0.0000e+00,  2.2352e-08,\n",
      "          4.4703e-08,  2.9802e-08,  0.0000e+00, -7.4506e-09,  4.4703e-08,\n",
      "          1.4901e-08],\n",
      "        [ 2.9802e-08,  0.0000e+00,  1.1176e-08, -5.9605e-08,  5.9605e-08,\n",
      "          0.0000e+00,  1.4901e-07,  5.9605e-08,  1.4901e-08,  4.4703e-08,\n",
      "         -5.9605e-08,  1.4901e-08, -1.4901e-08, -3.7253e-08,  0.0000e+00,\n",
      "         -2.9802e-08],\n",
      "        [ 0.0000e+00, -1.4901e-08,  0.0000e+00, -5.9605e-08, -2.9802e-08,\n",
      "          8.9407e-08,  0.0000e+00,  8.1956e-08,  0.0000e+00,  0.0000e+00,\n",
      "          0.0000e+00,  0.0000e+00, -2.9802e-08, -4.4703e-08,  2.9802e-08,\n",
      "          0.0000e+00],\n",
      "        [ 4.4703e-08, -5.9605e-08,  4.4703e-08, -2.9802e-08,  2.2352e-08,\n",
      "         -2.9802e-08, -8.9407e-08,  3.7253e-08,  0.0000e+00,  0.0000e+00,\n",
      "          2.9802e-08,  2.9802e-08, -2.9802e-08,  0.0000e+00,  2.9802e-08,\n",
      "          1.4901e-08],\n",
      "        [ 0.0000e+00,  0.0000e+00,  1.1176e-08,  2.9802e-08, -1.4901e-08,\n",
      "          0.0000e+00,  0.0000e+00, -7.4506e-09,  0.0000e+00, -2.2352e-08,\n",
      "          0.0000e+00,  0.0000e+00,  0.0000e+00,  1.4901e-08,  1.4901e-08,\n",
      "          1.4901e-08]])\n"
     ]
    },
    {
     "ename": "AssertionError",
     "evalue": "",
     "output_type": "error",
     "traceback": [
      "\u001b[1;31m---------------------------------------------------------------------------\u001b[0m",
      "\u001b[1;31mAssertionError\u001b[0m                            Traceback (most recent call last)",
      "Cell \u001b[1;32mIn [1], line 19\u001b[0m\n\u001b[0;32m     17\u001b[0m model \u001b[38;5;241m=\u001b[39m fixed_target_egnca(args)\n\u001b[0;32m     18\u001b[0m trainer \u001b[38;5;241m=\u001b[39m fixed_target_trainer(args, model)\n\u001b[1;32m---> 19\u001b[0m \u001b[43mtrainer\u001b[49m\u001b[38;5;241;43m.\u001b[39;49m\u001b[43mtrain\u001b[49m\u001b[43m(\u001b[49m\u001b[43mcompare_graphs\u001b[49m\u001b[38;5;241;43m=\u001b[39;49m\u001b[38;5;28;43;01mTrue\u001b[39;49;00m\u001b[43m)\u001b[49m\n",
      "File \u001b[1;32mc:\\Users\\Marco\\Documents\\GitHub\\graph-nca\\2-egnca-rework\\trainer.py:165\u001b[0m, in \u001b[0;36mfixed_target_trainer.train\u001b[1;34m(self, vebose, compare_graphs)\u001b[0m\n\u001b[0;32m    162\u001b[0m graph_0_coords, graph_0_hidden, graph_collection \u001b[38;5;241m=\u001b[39m \u001b[38;5;28mself\u001b[39m\u001b[38;5;241m.\u001b[39mmodel(graph_0_coords, graph_0_hidden, graph_0_edges, compare_graphs)\n\u001b[0;32m    164\u001b[0m \u001b[38;5;28;01mfrom\u001b[39;00m \u001b[38;5;21;01mutils\u001b[39;00m \u001b[38;5;28;01mimport\u001b[39;00m compare_collections\n\u001b[1;32m--> 165\u001b[0m \u001b[43mcompare_collections\u001b[49m\u001b[43m(\u001b[49m\u001b[43mbatch_collection\u001b[49m\u001b[43m,\u001b[49m\u001b[43m \u001b[49m\u001b[43mgraph_collection\u001b[49m\u001b[43m,\u001b[49m\u001b[43m \u001b[49m\u001b[38;5;28;43mself\u001b[39;49m\u001b[38;5;241;43m.\u001b[39;49m\u001b[43mn_nodes\u001b[49m\u001b[43m,\u001b[49m\u001b[43m \u001b[49m\u001b[38;5;28;43mself\u001b[39;49m\u001b[38;5;241;43m.\u001b[39;49m\u001b[43mn_edges\u001b[49m\u001b[43m)\u001b[49m\n\u001b[0;32m    167\u001b[0m \u001b[38;5;28;01massert\u001b[39;00m torch\u001b[38;5;241m.\u001b[39mallclose(batch_coords[\u001b[38;5;241m0\u001b[39m:\u001b[38;5;28mself\u001b[39m\u001b[38;5;241m.\u001b[39mn_nodes,], graph_0_coords)\n\u001b[0;32m    168\u001b[0m \u001b[38;5;28;01massert\u001b[39;00m torch\u001b[38;5;241m.\u001b[39mallclose(batch_hidden[\u001b[38;5;241m0\u001b[39m:\u001b[38;5;28mself\u001b[39m\u001b[38;5;241m.\u001b[39mn_nodes,], graph_0_hidden)\n",
      "File \u001b[1;32mc:\\Users\\Marco\\Documents\\GitHub\\graph-nca\\2-egnca-rework\\utils.py:255\u001b[0m, in \u001b[0;36mcompare_collections\u001b[1;34m(batch_collection, graph_collection, n_nodes, n_edges)\u001b[0m\n\u001b[0;32m    253\u001b[0m d \u001b[38;5;241m=\u001b[39m b\u001b[38;5;241m-\u001b[39mg\n\u001b[0;32m    254\u001b[0m \u001b[38;5;28mprint\u001b[39m (\u001b[38;5;124mf\u001b[39m\u001b[38;5;124m'\u001b[39m\u001b[38;5;124mhidden_mlp_out diff:\u001b[39m\u001b[38;5;130;01m\\n\u001b[39;00m\u001b[38;5;132;01m{\u001b[39;00md\u001b[38;5;132;01m}\u001b[39;00m\u001b[38;5;124m'\u001b[39m)\n\u001b[1;32m--> 255\u001b[0m \u001b[38;5;28;01massert\u001b[39;00m torch\u001b[38;5;241m.\u001b[39mallclose(b, g)\n\u001b[0;32m    257\u001b[0m \u001b[38;5;66;03m# hidden_out\u001b[39;00m\n\u001b[0;32m    258\u001b[0m b \u001b[38;5;241m=\u001b[39m batch_collection[\u001b[38;5;124m'\u001b[39m\u001b[38;5;124mhidden_out\u001b[39m\u001b[38;5;124m'\u001b[39m][\u001b[38;5;241m0\u001b[39m:n_nodes]\n",
      "\u001b[1;31mAssertionError\u001b[0m: "
     ]
    }
   ],
   "source": [
    "# train a model\n",
    "from utils import default_namespace, update_namespace\n",
    "from models import fixed_target_egnca\n",
    "from trainer import fixed_target_trainer\n",
    "\n",
    "import torch\n",
    "torch.manual_seed(42)\n",
    "torch.backends.cudnn.deterministic = True\n",
    "\n",
    "args = default_namespace()\n",
    "args.graph = 'line'\n",
    "args.size = 8\n",
    "args.batch_size = 2\n",
    "args.has_attention = True\n",
    "args = update_namespace(args)\n",
    "print (f'args: {args}')\n",
    "model = fixed_target_egnca(args)\n",
    "trainer = fixed_target_trainer(args, model)\n",
    "trainer.train(compare_graphs=True)"
   ]
  },
  {
   "cell_type": "code",
   "execution_count": null,
   "metadata": {},
   "outputs": [],
   "source": [
    "# create evolution figure for trained model\n",
    "from visualize import create_evolve_figure\n",
    "from models import fixed_target_egnca\n",
    "from trainer import fixed_target_trainer\n",
    "from argparse import Namespace\n",
    "import torch\n",
    "import json\n",
    "\n",
    "torch.manual_seed(42)\n",
    "path = 'keep/cube4-2024-10-06@17-32-32'\n",
    "best = 1\n",
    "with open(f'{path}/args.txt', 'r') as f:\n",
    "    args = json.load(f)\n",
    "args = Namespace(**args)\n",
    "model = fixed_target_egnca(args)\n",
    "model.load_state_dict(torch.load(f'{path}/final@9999.pt', weights_only=True, map_location=args.device))\n",
    "trainer = fixed_target_trainer(args, model)\n",
    "steps = 100\n",
    "fig = create_evolve_figure(\n",
    "    trainer,\n",
    "    num_steps=steps,\n",
    "    frame_duration=50,\n",
    "    show_edges=True,\n",
    ")\n",
    "\n",
    "import plotly\n",
    "plotly.offline.init_notebook_mode()\n",
    "fig.show()\n",
    "fig.write_html(f'{path}/evolvefig@{steps}.html')"
   ]
  },
  {
   "cell_type": "code",
   "execution_count": null,
   "metadata": {},
   "outputs": [],
   "source": [
    "# run all tests\n",
    "from egnn import test_egnn_equivariance\n",
    "from pool import test_pool_functionality\n",
    "\n",
    "n_tests = 50\n",
    "verbose = False\n",
    "\n",
    "print ('running tests')\n",
    "test_egnn_equivariance(n_tests, verbose)\n",
    "test_pool_functionality(n_tests, verbose)\n",
    "print ('all tests complete')"
   ]
  }
 ],
 "metadata": {
  "kernelspec": {
   "display_name": "egnca",
   "language": "python",
   "name": "python3"
  },
  "language_info": {
   "codemirror_mode": {
    "name": "ipython",
    "version": 3
   },
   "file_extension": ".py",
   "mimetype": "text/x-python",
   "name": "python",
   "nbconvert_exporter": "python",
   "pygments_lexer": "ipython3",
   "version": "3.10.14"
  }
 },
 "nbformat": 4,
 "nbformat_minor": 2
}
