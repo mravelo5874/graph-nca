{
 "cells": [
  {
   "cell_type": "code",
   "execution_count": null,
   "metadata": {},
   "outputs": [],
   "source": [
    "# train a model\n",
    "from utils import default_namespace, update_namespace\n",
    "from models import fixed_target_egnca\n",
    "from trainer import fixed_target_trainer\n",
    "\n",
    "import torch\n",
    "torch.manual_seed(42)\n",
    "torch.backends.cudnn.deterministic = True\n",
    "\n",
    "args = default_namespace()\n",
    "args.graph = 'line'\n",
    "args.size = 8\n",
    "args.batch_size = 8\n",
    "args.has_attention = True\n",
    "args = update_namespace(args)\n",
    "print (f'args: {args}')\n",
    "model = fixed_target_egnca(args)\n",
    "trainer = fixed_target_trainer(args, model)\n",
    "trainer.train(compare_graphs=True)"
   ]
  },
  {
   "cell_type": "code",
   "execution_count": null,
   "metadata": {},
   "outputs": [],
   "source": [
    "# create evolution figure for trained model\n",
    "from visualize import create_evolve_figure\n",
    "from models import fixed_target_egnca\n",
    "from trainer import fixed_target_trainer\n",
    "from argparse import Namespace\n",
    "import torch\n",
    "import json\n",
    "\n",
    "torch.manual_seed(42)\n",
    "path = 'keep/cube4-2024-10-06@17-32-32'\n",
    "best = 1\n",
    "with open(f'{path}/args.txt', 'r') as f:\n",
    "    args = json.load(f)\n",
    "args = Namespace(**args)\n",
    "model = fixed_target_egnca(args)\n",
    "model.load_state_dict(torch.load(f'{path}/final@9999.pt', weights_only=True, map_location=args.device))\n",
    "trainer = fixed_target_trainer(args, model)\n",
    "steps = 100\n",
    "fig = create_evolve_figure(\n",
    "    trainer,\n",
    "    num_steps=steps,\n",
    "    frame_duration=50,\n",
    "    show_edges=True,\n",
    ")\n",
    "\n",
    "import plotly\n",
    "plotly.offline.init_notebook_mode()\n",
    "fig.show()\n",
    "fig.write_html(f'{path}/evolvefig@{steps}.html')"
   ]
  },
  {
   "cell_type": "code",
   "execution_count": null,
   "metadata": {},
   "outputs": [],
   "source": [
    "# run all tests\n",
    "from egnn import test_egnn_equivariance\n",
    "from pool import test_pool_functionality\n",
    "\n",
    "n_tests = 50\n",
    "verbose = False\n",
    "\n",
    "print ('running tests')\n",
    "test_egnn_equivariance(n_tests, verbose)\n",
    "test_pool_functionality(n_tests, verbose)\n",
    "print ('all tests complete')"
   ]
  }
 ],
 "metadata": {
  "kernelspec": {
   "display_name": "egnca",
   "language": "python",
   "name": "python3"
  },
  "language_info": {
   "codemirror_mode": {
    "name": "ipython",
    "version": 3
   },
   "file_extension": ".py",
   "mimetype": "text/x-python",
   "name": "python",
   "nbconvert_exporter": "python",
   "pygments_lexer": "ipython3",
   "version": "3.10.14"
  }
 },
 "nbformat": 4,
 "nbformat_minor": 2
}
