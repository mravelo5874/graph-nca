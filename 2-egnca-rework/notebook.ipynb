{
 "cells": [
  {
   "cell_type": "code",
   "execution_count": 1,
   "metadata": {},
   "outputs": [
    {
     "name": "stdout",
     "output_type": "stream",
     "text": [
      "ids.shape: (4,)\n",
      "coords.shape: torch.Size([16, 3])\n",
      "hidden.shape: torch.Size([16, 16])\n",
      "comp_edges.shape: torch.Size([2, 3])\n",
      "comp_lens.shape: torch.Size([3])\n"
     ]
    },
    {
     "ename": "UnboundLocalError",
     "evalue": "local variable 'comp_lens' referenced before assignment",
     "output_type": "error",
     "traceback": [
      "\u001b[1;31m---------------------------------------------------------------------------\u001b[0m",
      "\u001b[1;31mUnboundLocalError\u001b[0m                         Traceback (most recent call last)",
      "Cell \u001b[1;32mIn [1], line 9\u001b[0m\n\u001b[0;32m      7\u001b[0m model \u001b[38;5;241m=\u001b[39m fixed_target_egnca(args)\n\u001b[0;32m      8\u001b[0m trainer \u001b[38;5;241m=\u001b[39m fixed_target_trainer(args, model)\n\u001b[1;32m----> 9\u001b[0m \u001b[43mtrainer\u001b[49m\u001b[38;5;241;43m.\u001b[39;49m\u001b[43mtrain\u001b[49m\u001b[43m(\u001b[49m\u001b[43m)\u001b[49m\n",
      "File \u001b[1;32mc:\\Users\\Marco\\Documents\\GitHub\\graph-nca\\2-egnca-rework\\fixed_target_trainer.py:86\u001b[0m, in \u001b[0;36mfixed_target_trainer.train\u001b[1;34m(self, vebose)\u001b[0m\n\u001b[0;32m     83\u001b[0m     batch_coords, batch_hidden \u001b[38;5;241m=\u001b[39m \u001b[38;5;28mself\u001b[39m\u001b[38;5;241m.\u001b[39mmodel(batch_coords, batch_hidden, expanded_edges)\n\u001b[0;32m     85\u001b[0m \u001b[38;5;66;03m# configure comparison edges / lengths\u001b[39;00m\n\u001b[1;32m---> 86\u001b[0m comp_lens \u001b[38;5;241m=\u001b[39m \u001b[43mcomp_lens\u001b[49m\u001b[38;5;241m.\u001b[39mrepeat([\u001b[38;5;28mself\u001b[39m\u001b[38;5;241m.\u001b[39margs\u001b[38;5;241m.\u001b[39mbatch_size, \u001b[38;5;241m1\u001b[39m])\u001b[38;5;241m.\u001b[39mto(\u001b[38;5;28mself\u001b[39m\u001b[38;5;241m.\u001b[39margs\u001b[38;5;241m.\u001b[39mdevice)\n\u001b[0;32m     87\u001b[0m \u001b[38;5;28mprint\u001b[39m (\u001b[38;5;124mf\u001b[39m\u001b[38;5;124m'\u001b[39m\u001b[38;5;124m(dev) comp_lens.shape: \u001b[39m\u001b[38;5;132;01m{\u001b[39;00mcomp_lens\u001b[38;5;241m.\u001b[39mshape\u001b[38;5;132;01m}\u001b[39;00m\u001b[38;5;124m'\u001b[39m)\n\u001b[0;32m     89\u001b[0m comp_edges \u001b[38;5;241m=\u001b[39m batch_data[\u001b[38;5;124m'\u001b[39m\u001b[38;5;124mcomp_edges\u001b[39m\u001b[38;5;124m'\u001b[39m]\n",
      "\u001b[1;31mUnboundLocalError\u001b[0m: local variable 'comp_lens' referenced before assignment"
     ]
    }
   ],
   "source": [
    "# train a model\n",
    "from utils import default_namespace\n",
    "from models import fixed_target_egnca\n",
    "from fixed_target_trainer import fixed_target_trainer\n",
    "\n",
    "args = default_namespace()\n",
    "print (f'args: {args}')\n",
    "model = fixed_target_egnca(args)\n",
    "trainer = fixed_target_trainer(args, model)\n",
    "trainer.train()"
   ]
  },
  {
   "cell_type": "code",
   "execution_count": null,
   "metadata": {},
   "outputs": [],
   "source": [
    "# run all tests\n",
    "from egnn import test_egnn_equivariance\n",
    "from pool import test_pool_functionality\n",
    "\n",
    "n_tests = 50\n",
    "verbose = False\n",
    "\n",
    "print ('running tests')\n",
    "test_egnn_equivariance(n_tests, verbose)\n",
    "test_pool_functionality(n_tests, verbose)\n",
    "print ('all tests complete')"
   ]
  }
 ],
 "metadata": {
  "kernelspec": {
   "display_name": "egnca",
   "language": "python",
   "name": "python3"
  },
  "language_info": {
   "codemirror_mode": {
    "name": "ipython",
    "version": 3
   },
   "file_extension": ".py",
   "mimetype": "text/x-python",
   "name": "python",
   "nbconvert_exporter": "python",
   "pygments_lexer": "ipython3",
   "version": "3.10.14"
  }
 },
 "nbformat": 4,
 "nbformat_minor": 2
}
