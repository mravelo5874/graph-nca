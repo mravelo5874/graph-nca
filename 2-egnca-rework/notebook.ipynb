{
 "cells": [
  {
   "cell_type": "code",
   "execution_count": null,
   "metadata": {},
   "outputs": [],
   "source": [
    "# train a model\n",
    "from utils import default_namespace\n",
    "from models import fixed_target_egnca\n",
    "from fixed_target_trainer import fixed_target_trainer\n",
    "\n",
    "args = default_namespace()\n",
    "model = fixed_target_egnca(args)\n",
    "trainer = fixed_target_trainer(args, model)\n",
    "trainer.train()"
   ]
  },
  {
   "cell_type": "code",
   "execution_count": null,
   "metadata": {},
   "outputs": [],
   "source": [
    "# run all tests\n",
    "from egnn import test_egnn_equivariance\n",
    "from pool import test_pool_functionality\n",
    "\n",
    "n_tests = 50\n",
    "verbose = False\n",
    "\n",
    "print ('running tests')\n",
    "test_egnn_equivariance(n_tests, verbose)\n",
    "test_pool_functionality(n_tests, verbose)\n",
    "print ('all tests complete')"
   ]
  }
 ],
 "metadata": {
  "kernelspec": {
   "display_name": "egnca",
   "language": "python",
   "name": "python3"
  },
  "language_info": {
   "codemirror_mode": {
    "name": "ipython",
    "version": 3
   },
   "file_extension": ".py",
   "mimetype": "text/x-python",
   "name": "python",
   "nbconvert_exporter": "python",
   "pygments_lexer": "ipython3",
   "version": "3.10.14"
  }
 },
 "nbformat": 4,
 "nbformat_minor": 2
}
